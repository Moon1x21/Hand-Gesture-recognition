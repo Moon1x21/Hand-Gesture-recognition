{
 "cells": [
  {
   "cell_type": "code",
   "execution_count": 1,
   "metadata": {},
   "outputs": [],
   "source": [
    "import csv\n",
    "\n",
    "import numpy as np\n",
    "import tensorflow as tf\n",
    "from sklearn.model_selection import train_test_split\n",
    "\n",
    "RANDOM_SEED = 42"
   ]
  },
  {
   "cell_type": "markdown",
   "metadata": {},
   "source": [
    "# 各パス指定"
   ]
  },
  {
   "cell_type": "code",
   "execution_count": 2,
   "metadata": {},
   "outputs": [],
   "source": [
    "dataset = 'model/keypoint_classifier/keypoint.csv'\n",
    "model_save_path = 'model/keypoint_classifier/keypoint_classifier.hdf5'"
   ]
  },
  {
   "cell_type": "markdown",
   "metadata": {},
   "source": [
    "# 分類数設定"
   ]
  },
  {
   "cell_type": "code",
   "execution_count": 3,
   "metadata": {},
   "outputs": [],
   "source": [
    "NUM_CLASSES = 2"
   ]
  },
  {
   "cell_type": "markdown",
   "metadata": {},
   "source": [
    "# 学習データ読み込み"
   ]
  },
  {
   "cell_type": "code",
   "execution_count": 4,
   "metadata": {},
   "outputs": [],
   "source": [
    "X_dataset = np.loadtxt(dataset, delimiter=',', dtype='float32', usecols=list(range(1, (21 * 2) + 1)))"
   ]
  },
  {
   "cell_type": "code",
   "execution_count": 5,
   "metadata": {},
   "outputs": [],
   "source": [
    "y_dataset = np.loadtxt(dataset, delimiter=',', dtype='int32', usecols=(0))"
   ]
  },
  {
   "cell_type": "code",
   "execution_count": 6,
   "metadata": {},
   "outputs": [],
   "source": [
    "X_train, X_test, y_train, y_test = train_test_split(X_dataset, y_dataset, train_size=0.75, random_state=RANDOM_SEED)"
   ]
  },
  {
   "cell_type": "markdown",
   "metadata": {},
   "source": [
    "# モデル構築"
   ]
  },
  {
   "cell_type": "code",
   "execution_count": 7,
   "metadata": {},
   "outputs": [],
   "source": [
    "model = tf.keras.models.Sequential([\n",
    "    tf.keras.layers.Input((21 * 2, )),\n",
    "    tf.keras.layers.Dropout(0.2),\n",
    "    tf.keras.layers.Dense(20, activation='relu'),\n",
    "    tf.keras.layers.Dropout(0.4),\n",
    "    tf.keras.layers.Dense(10, activation='relu'),\n",
    "    tf.keras.layers.Dense(NUM_CLASSES, activation='softmax')\n",
    "])"
   ]
  },
  {
   "cell_type": "code",
   "execution_count": 8,
   "metadata": {},
   "outputs": [
    {
     "name": "stdout",
     "output_type": "stream",
     "text": [
      "Model: \"sequential\"\n",
      "_________________________________________________________________\n",
      " Layer (type)                Output Shape              Param #   \n",
      "=================================================================\n",
      " dropout (Dropout)           (None, 42)                0         \n",
      "                                                                 \n",
      " dense (Dense)               (None, 20)                860       \n",
      "                                                                 \n",
      " dropout_1 (Dropout)         (None, 20)                0         \n",
      "                                                                 \n",
      " dense_1 (Dense)             (None, 10)                210       \n",
      "                                                                 \n",
      " dense_2 (Dense)             (None, 2)                 22        \n",
      "                                                                 \n",
      "=================================================================\n",
      "Total params: 1,092\n",
      "Trainable params: 1,092\n",
      "Non-trainable params: 0\n",
      "_________________________________________________________________\n"
     ]
    }
   ],
   "source": [
    "model.summary()  # tf.keras.utils.plot_model(model, show_shapes=True)"
   ]
  },
  {
   "cell_type": "code",
   "execution_count": 9,
   "metadata": {},
   "outputs": [],
   "source": [
    "# モデルチェックポイントのコールバック\n",
    "cp_callback = tf.keras.callbacks.ModelCheckpoint(\n",
    "    model_save_path, verbose=1, save_weights_only=False)\n",
    "# 早期打ち切り用コールバック\n",
    "es_callback = tf.keras.callbacks.EarlyStopping(patience=20, verbose=1)"
   ]
  },
  {
   "cell_type": "code",
   "execution_count": 10,
   "metadata": {},
   "outputs": [],
   "source": [
    "# モデルコンパイル\n",
    "model.compile(\n",
    "    optimizer='adam',\n",
    "    loss='sparse_categorical_crossentropy',\n",
    "    metrics=['accuracy']\n",
    ")"
   ]
  },
  {
   "cell_type": "markdown",
   "metadata": {},
   "source": [
    "# モデル訓練"
   ]
  },
  {
   "cell_type": "code",
   "execution_count": 11,
   "metadata": {
    "scrolled": true
   },
   "outputs": [
    {
     "name": "stdout",
     "output_type": "stream",
     "text": [
      "Epoch 1/1000\n",
      " 1/19 [>.............................] - ETA: 8s - loss: 0.8724 - accuracy: 0.4297\n",
      "Epoch 1: saving model to model/keypoint_classifier\\keypoint_classifier.hdf5\n",
      "19/19 [==============================] - 1s 14ms/step - loss: 0.7679 - accuracy: 0.5039 - val_loss: 0.6803 - val_accuracy: 0.5620\n",
      "Epoch 2/1000\n",
      " 1/19 [>.............................] - ETA: 0s - loss: 0.7214 - accuracy: 0.5234\n",
      "Epoch 2: saving model to model/keypoint_classifier\\keypoint_classifier.hdf5\n",
      "19/19 [==============================] - 0s 5ms/step - loss: 0.6826 - accuracy: 0.5655 - val_loss: 0.6369 - val_accuracy: 0.6757\n",
      "Epoch 3/1000\n",
      " 1/19 [>.............................] - ETA: 0s - loss: 0.6607 - accuracy: 0.6094\n",
      "Epoch 3: saving model to model/keypoint_classifier\\keypoint_classifier.hdf5\n",
      "19/19 [==============================] - 0s 5ms/step - loss: 0.6546 - accuracy: 0.5991 - val_loss: 0.5970 - val_accuracy: 0.7468\n",
      "Epoch 4/1000\n",
      " 1/19 [>.............................] - ETA: 0s - loss: 0.6189 - accuracy: 0.6484\n",
      "Epoch 4: saving model to model/keypoint_classifier\\keypoint_classifier.hdf5\n",
      "19/19 [==============================] - 0s 5ms/step - loss: 0.6289 - accuracy: 0.6310 - val_loss: 0.5635 - val_accuracy: 0.7920\n",
      "Epoch 5/1000\n",
      " 1/19 [>.............................] - ETA: 0s - loss: 0.6138 - accuracy: 0.6562\n",
      "Epoch 5: saving model to model/keypoint_classifier\\keypoint_classifier.hdf5\n",
      "19/19 [==============================] - 0s 6ms/step - loss: 0.5983 - accuracy: 0.6664 - val_loss: 0.5304 - val_accuracy: 0.8333\n",
      "Epoch 6/1000\n",
      " 1/19 [>.............................] - ETA: 0s - loss: 0.5583 - accuracy: 0.7266\n",
      "Epoch 6: saving model to model/keypoint_classifier\\keypoint_classifier.hdf5\n",
      "19/19 [==============================] - 0s 6ms/step - loss: 0.5674 - accuracy: 0.7108 - val_loss: 0.4919 - val_accuracy: 0.8928\n",
      "Epoch 7/1000\n",
      " 1/19 [>.............................] - ETA: 0s - loss: 0.5736 - accuracy: 0.6797\n",
      "Epoch 7: saving model to model/keypoint_classifier\\keypoint_classifier.hdf5\n",
      "19/19 [==============================] - 0s 5ms/step - loss: 0.5599 - accuracy: 0.7099 - val_loss: 0.4519 - val_accuracy: 0.9005\n",
      "Epoch 8/1000\n",
      " 1/19 [>.............................] - ETA: 0s - loss: 0.5224 - accuracy: 0.7500\n",
      "Epoch 8: saving model to model/keypoint_classifier\\keypoint_classifier.hdf5\n",
      "19/19 [==============================] - 0s 5ms/step - loss: 0.5298 - accuracy: 0.7341 - val_loss: 0.4187 - val_accuracy: 0.9199\n",
      "Epoch 9/1000\n",
      " 1/19 [>.............................] - ETA: 0s - loss: 0.5467 - accuracy: 0.7266\n",
      "Epoch 9: saving model to model/keypoint_classifier\\keypoint_classifier.hdf5\n",
      "19/19 [==============================] - 0s 5ms/step - loss: 0.5130 - accuracy: 0.7483 - val_loss: 0.3843 - val_accuracy: 0.9238\n",
      "Epoch 10/1000\n",
      " 1/19 [>.............................] - ETA: 0s - loss: 0.4802 - accuracy: 0.7656\n",
      "Epoch 10: saving model to model/keypoint_classifier\\keypoint_classifier.hdf5\n",
      "19/19 [==============================] - 0s 5ms/step - loss: 0.4875 - accuracy: 0.7655 - val_loss: 0.3545 - val_accuracy: 0.9289\n",
      "Epoch 11/1000\n",
      " 1/19 [>.............................] - ETA: 0s - loss: 0.4497 - accuracy: 0.7812\n",
      "Epoch 11: saving model to model/keypoint_classifier\\keypoint_classifier.hdf5\n",
      "19/19 [==============================] - 0s 5ms/step - loss: 0.4593 - accuracy: 0.7836 - val_loss: 0.3233 - val_accuracy: 0.9251\n",
      "Epoch 12/1000\n",
      " 1/19 [>.............................] - ETA: 0s - loss: 0.5085 - accuracy: 0.7578\n",
      "Epoch 12: saving model to model/keypoint_classifier\\keypoint_classifier.hdf5\n",
      "19/19 [==============================] - 0s 5ms/step - loss: 0.4414 - accuracy: 0.8000 - val_loss: 0.2991 - val_accuracy: 0.9289\n",
      "Epoch 13/1000\n",
      " 1/19 [>.............................] - ETA: 0s - loss: 0.4330 - accuracy: 0.8359\n",
      "Epoch 13: saving model to model/keypoint_classifier\\keypoint_classifier.hdf5\n",
      "19/19 [==============================] - 0s 5ms/step - loss: 0.4330 - accuracy: 0.7909 - val_loss: 0.2771 - val_accuracy: 0.9328\n",
      "Epoch 14/1000\n",
      " 1/19 [>.............................] - ETA: 0s - loss: 0.4738 - accuracy: 0.7812\n",
      "Epoch 14: saving model to model/keypoint_classifier\\keypoint_classifier.hdf5\n",
      "19/19 [==============================] - 0s 5ms/step - loss: 0.4309 - accuracy: 0.8043 - val_loss: 0.2611 - val_accuracy: 0.9328\n",
      "Epoch 15/1000\n",
      " 1/19 [>.............................] - ETA: 0s - loss: 0.4015 - accuracy: 0.7969\n",
      "Epoch 15: saving model to model/keypoint_classifier\\keypoint_classifier.hdf5\n",
      "19/19 [==============================] - 0s 5ms/step - loss: 0.4112 - accuracy: 0.8082 - val_loss: 0.2484 - val_accuracy: 0.9432\n",
      "Epoch 16/1000\n",
      " 1/19 [>.............................] - ETA: 0s - loss: 0.3659 - accuracy: 0.8281\n",
      "Epoch 16: saving model to model/keypoint_classifier\\keypoint_classifier.hdf5\n",
      "19/19 [==============================] - 0s 5ms/step - loss: 0.3967 - accuracy: 0.8142 - val_loss: 0.2349 - val_accuracy: 0.9406\n",
      "Epoch 17/1000\n",
      " 1/19 [>.............................] - ETA: 0s - loss: 0.3672 - accuracy: 0.8438\n",
      "Epoch 17: saving model to model/keypoint_classifier\\keypoint_classifier.hdf5\n",
      "19/19 [==============================] - 0s 6ms/step - loss: 0.3818 - accuracy: 0.8220 - val_loss: 0.2144 - val_accuracy: 0.9496\n",
      "Epoch 18/1000\n",
      " 1/19 [>.............................] - ETA: 0s - loss: 0.3768 - accuracy: 0.8750\n",
      "Epoch 18: saving model to model/keypoint_classifier\\keypoint_classifier.hdf5\n",
      "19/19 [==============================] - 0s 6ms/step - loss: 0.3672 - accuracy: 0.8336 - val_loss: 0.2031 - val_accuracy: 0.9470\n",
      "Epoch 19/1000\n",
      " 1/19 [>.............................] - ETA: 0s - loss: 0.3249 - accuracy: 0.8438\n",
      "Epoch 19: saving model to model/keypoint_classifier\\keypoint_classifier.hdf5\n",
      "19/19 [==============================] - 0s 6ms/step - loss: 0.3614 - accuracy: 0.8422 - val_loss: 0.1940 - val_accuracy: 0.9432\n",
      "Epoch 20/1000\n",
      " 1/19 [>.............................] - ETA: 0s - loss: 0.3535 - accuracy: 0.8438\n",
      "Epoch 20: saving model to model/keypoint_classifier\\keypoint_classifier.hdf5\n",
      "19/19 [==============================] - 0s 5ms/step - loss: 0.3531 - accuracy: 0.8366 - val_loss: 0.1806 - val_accuracy: 0.9561\n",
      "Epoch 21/1000\n",
      " 1/19 [>.............................] - ETA: 0s - loss: 0.3191 - accuracy: 0.8438\n",
      "Epoch 21: saving model to model/keypoint_classifier\\keypoint_classifier.hdf5\n",
      "19/19 [==============================] - 0s 5ms/step - loss: 0.3286 - accuracy: 0.8603 - val_loss: 0.1715 - val_accuracy: 0.9612\n",
      "Epoch 22/1000\n",
      " 1/19 [>.............................] - ETA: 0s - loss: 0.2705 - accuracy: 0.8984\n",
      "Epoch 22: saving model to model/keypoint_classifier\\keypoint_classifier.hdf5\n",
      "19/19 [==============================] - 0s 5ms/step - loss: 0.3226 - accuracy: 0.8556 - val_loss: 0.1596 - val_accuracy: 0.9625\n",
      "Epoch 23/1000\n",
      " 1/19 [>.............................] - ETA: 0s - loss: 0.3817 - accuracy: 0.8281\n",
      "Epoch 23: saving model to model/keypoint_classifier\\keypoint_classifier.hdf5\n",
      "19/19 [==============================] - 0s 5ms/step - loss: 0.3440 - accuracy: 0.8530 - val_loss: 0.1572 - val_accuracy: 0.9612\n",
      "Epoch 24/1000\n",
      " 1/19 [>.............................] - ETA: 0s - loss: 0.3249 - accuracy: 0.8750\n",
      "Epoch 24: saving model to model/keypoint_classifier\\keypoint_classifier.hdf5\n",
      "19/19 [==============================] - 0s 5ms/step - loss: 0.3273 - accuracy: 0.8547 - val_loss: 0.1515 - val_accuracy: 0.9651\n",
      "Epoch 25/1000\n",
      " 1/19 [>.............................] - ETA: 0s - loss: 0.2728 - accuracy: 0.8828\n",
      "Epoch 25: saving model to model/keypoint_classifier\\keypoint_classifier.hdf5\n",
      "19/19 [==============================] - 0s 5ms/step - loss: 0.3093 - accuracy: 0.8603 - val_loss: 0.1486 - val_accuracy: 0.9638\n",
      "Epoch 26/1000\n",
      " 1/19 [>.............................] - ETA: 0s - loss: 0.3411 - accuracy: 0.8516\n",
      "Epoch 26: saving model to model/keypoint_classifier\\keypoint_classifier.hdf5\n",
      "19/19 [==============================] - 0s 5ms/step - loss: 0.3121 - accuracy: 0.8547 - val_loss: 0.1419 - val_accuracy: 0.9677\n",
      "Epoch 27/1000\n",
      " 1/19 [>.............................] - ETA: 0s - loss: 0.3121 - accuracy: 0.8828\n",
      "Epoch 27: saving model to model/keypoint_classifier\\keypoint_classifier.hdf5\n",
      "19/19 [==============================] - 0s 5ms/step - loss: 0.3092 - accuracy: 0.8677 - val_loss: 0.1405 - val_accuracy: 0.9625\n",
      "Epoch 28/1000\n"
     ]
    },
    {
     "name": "stdout",
     "output_type": "stream",
     "text": [
      " 1/19 [>.............................] - ETA: 0s - loss: 0.3343 - accuracy: 0.8203\n",
      "Epoch 28: saving model to model/keypoint_classifier\\keypoint_classifier.hdf5\n",
      "19/19 [==============================] - 0s 5ms/step - loss: 0.3260 - accuracy: 0.8565 - val_loss: 0.1368 - val_accuracy: 0.9638\n",
      "Epoch 29/1000\n",
      " 1/19 [>.............................] - ETA: 0s - loss: 0.3018 - accuracy: 0.8672\n",
      "Epoch 29: saving model to model/keypoint_classifier\\keypoint_classifier.hdf5\n",
      "19/19 [==============================] - 0s 5ms/step - loss: 0.2904 - accuracy: 0.8776 - val_loss: 0.1318 - val_accuracy: 0.9690\n",
      "Epoch 30/1000\n",
      " 1/19 [>.............................] - ETA: 0s - loss: 0.2638 - accuracy: 0.8984\n",
      "Epoch 30: saving model to model/keypoint_classifier\\keypoint_classifier.hdf5\n",
      "19/19 [==============================] - 0s 5ms/step - loss: 0.2983 - accuracy: 0.8789 - val_loss: 0.1263 - val_accuracy: 0.9690\n",
      "Epoch 31/1000\n",
      " 1/19 [>.............................] - ETA: 0s - loss: 0.3402 - accuracy: 0.8516\n",
      "Epoch 31: saving model to model/keypoint_classifier\\keypoint_classifier.hdf5\n",
      "19/19 [==============================] - 0s 5ms/step - loss: 0.2900 - accuracy: 0.8716 - val_loss: 0.1234 - val_accuracy: 0.9690\n",
      "Epoch 32/1000\n",
      " 1/19 [>.............................] - ETA: 0s - loss: 0.2355 - accuracy: 0.9062\n",
      "Epoch 32: saving model to model/keypoint_classifier\\keypoint_classifier.hdf5\n",
      "19/19 [==============================] - 0s 5ms/step - loss: 0.2821 - accuracy: 0.8841 - val_loss: 0.1200 - val_accuracy: 0.9729\n",
      "Epoch 33/1000\n",
      " 1/19 [>.............................] - ETA: 0s - loss: 0.3084 - accuracy: 0.8516\n",
      "Epoch 33: saving model to model/keypoint_classifier\\keypoint_classifier.hdf5\n",
      "19/19 [==============================] - 0s 5ms/step - loss: 0.2734 - accuracy: 0.8741 - val_loss: 0.1155 - val_accuracy: 0.9729\n",
      "Epoch 34/1000\n",
      " 1/19 [>.............................] - ETA: 0s - loss: 0.2322 - accuracy: 0.9141\n",
      "Epoch 34: saving model to model/keypoint_classifier\\keypoint_classifier.hdf5\n",
      "19/19 [==============================] - 0s 5ms/step - loss: 0.2687 - accuracy: 0.8897 - val_loss: 0.1124 - val_accuracy: 0.9729\n",
      "Epoch 35/1000\n",
      " 1/19 [>.............................] - ETA: 0s - loss: 0.2842 - accuracy: 0.8750\n",
      "Epoch 35: saving model to model/keypoint_classifier\\keypoint_classifier.hdf5\n",
      "19/19 [==============================] - 0s 5ms/step - loss: 0.2800 - accuracy: 0.8836 - val_loss: 0.1087 - val_accuracy: 0.9755\n",
      "Epoch 36/1000\n",
      " 1/19 [>.............................] - ETA: 0s - loss: 0.2484 - accuracy: 0.8828\n",
      "Epoch 36: saving model to model/keypoint_classifier\\keypoint_classifier.hdf5\n",
      "19/19 [==============================] - 0s 5ms/step - loss: 0.2744 - accuracy: 0.8862 - val_loss: 0.1083 - val_accuracy: 0.9716\n",
      "Epoch 37/1000\n",
      " 1/19 [>.............................] - ETA: 0s - loss: 0.2700 - accuracy: 0.8828\n",
      "Epoch 37: saving model to model/keypoint_classifier\\keypoint_classifier.hdf5\n",
      "19/19 [==============================] - 0s 5ms/step - loss: 0.2736 - accuracy: 0.8849 - val_loss: 0.1016 - val_accuracy: 0.9780\n",
      "Epoch 38/1000\n",
      " 1/19 [>.............................] - ETA: 0s - loss: 0.2700 - accuracy: 0.9062\n",
      "Epoch 38: saving model to model/keypoint_classifier\\keypoint_classifier.hdf5\n",
      "19/19 [==============================] - 0s 5ms/step - loss: 0.2657 - accuracy: 0.8888 - val_loss: 0.1025 - val_accuracy: 0.9729\n",
      "Epoch 39/1000\n",
      " 1/19 [>.............................] - ETA: 0s - loss: 0.3173 - accuracy: 0.8594\n",
      "Epoch 39: saving model to model/keypoint_classifier\\keypoint_classifier.hdf5\n",
      "19/19 [==============================] - 0s 5ms/step - loss: 0.2659 - accuracy: 0.8841 - val_loss: 0.0992 - val_accuracy: 0.9755\n",
      "Epoch 40/1000\n",
      " 1/19 [>.............................] - ETA: 0s - loss: 0.2889 - accuracy: 0.9062\n",
      "Epoch 40: saving model to model/keypoint_classifier\\keypoint_classifier.hdf5\n",
      "19/19 [==============================] - 0s 5ms/step - loss: 0.2589 - accuracy: 0.8970 - val_loss: 0.0963 - val_accuracy: 0.9742\n",
      "Epoch 41/1000\n",
      " 1/19 [>.............................] - ETA: 0s - loss: 0.2021 - accuracy: 0.9062\n",
      "Epoch 41: saving model to model/keypoint_classifier\\keypoint_classifier.hdf5\n",
      "19/19 [==============================] - 0s 5ms/step - loss: 0.2446 - accuracy: 0.9022 - val_loss: 0.0954 - val_accuracy: 0.9755\n",
      "Epoch 42/1000\n",
      " 1/19 [>.............................] - ETA: 0s - loss: 0.2853 - accuracy: 0.8750\n",
      "Epoch 42: saving model to model/keypoint_classifier\\keypoint_classifier.hdf5\n",
      "19/19 [==============================] - 0s 5ms/step - loss: 0.2712 - accuracy: 0.8802 - val_loss: 0.0960 - val_accuracy: 0.9767\n",
      "Epoch 43/1000\n",
      " 1/19 [>.............................] - ETA: 0s - loss: 0.2552 - accuracy: 0.9141\n",
      "Epoch 43: saving model to model/keypoint_classifier\\keypoint_classifier.hdf5\n",
      "19/19 [==============================] - 0s 5ms/step - loss: 0.2507 - accuracy: 0.8914 - val_loss: 0.0937 - val_accuracy: 0.9780\n",
      "Epoch 44/1000\n",
      " 1/19 [>.............................] - ETA: 0s - loss: 0.2222 - accuracy: 0.9219\n",
      "Epoch 44: saving model to model/keypoint_classifier\\keypoint_classifier.hdf5\n",
      "19/19 [==============================] - 0s 5ms/step - loss: 0.2512 - accuracy: 0.8927 - val_loss: 0.0938 - val_accuracy: 0.9793\n",
      "Epoch 45/1000\n",
      " 1/19 [>.............................] - ETA: 0s - loss: 0.2258 - accuracy: 0.9141\n",
      "Epoch 45: saving model to model/keypoint_classifier\\keypoint_classifier.hdf5\n",
      "19/19 [==============================] - 0s 5ms/step - loss: 0.2421 - accuracy: 0.9022 - val_loss: 0.0902 - val_accuracy: 0.9806\n",
      "Epoch 46/1000\n",
      " 1/19 [>.............................] - ETA: 0s - loss: 0.1921 - accuracy: 0.9453\n",
      "Epoch 46: saving model to model/keypoint_classifier\\keypoint_classifier.hdf5\n",
      "19/19 [==============================] - 0s 5ms/step - loss: 0.2483 - accuracy: 0.8983 - val_loss: 0.0891 - val_accuracy: 0.9767\n",
      "Epoch 47/1000\n",
      " 1/19 [>.............................] - ETA: 0s - loss: 0.1901 - accuracy: 0.9453\n",
      "Epoch 47: saving model to model/keypoint_classifier\\keypoint_classifier.hdf5\n",
      "19/19 [==============================] - 0s 5ms/step - loss: 0.2464 - accuracy: 0.9026 - val_loss: 0.0845 - val_accuracy: 0.9806\n",
      "Epoch 48/1000\n",
      " 1/19 [>.............................] - ETA: 0s - loss: 0.2112 - accuracy: 0.9219\n",
      "Epoch 48: saving model to model/keypoint_classifier\\keypoint_classifier.hdf5\n",
      "19/19 [==============================] - 0s 5ms/step - loss: 0.2605 - accuracy: 0.8849 - val_loss: 0.0857 - val_accuracy: 0.9832\n",
      "Epoch 49/1000\n",
      " 1/19 [>.............................] - ETA: 0s - loss: 0.2033 - accuracy: 0.8984\n",
      "Epoch 49: saving model to model/keypoint_classifier\\keypoint_classifier.hdf5\n",
      "19/19 [==============================] - 0s 5ms/step - loss: 0.2411 - accuracy: 0.8948 - val_loss: 0.0894 - val_accuracy: 0.9806\n",
      "Epoch 50/1000\n",
      " 1/19 [>.............................] - ETA: 0s - loss: 0.2562 - accuracy: 0.9141\n",
      "Epoch 50: saving model to model/keypoint_classifier\\keypoint_classifier.hdf5\n",
      "19/19 [==============================] - 0s 5ms/step - loss: 0.2516 - accuracy: 0.8966 - val_loss: 0.0880 - val_accuracy: 0.9793\n",
      "Epoch 51/1000\n",
      " 1/19 [>.............................] - ETA: 0s - loss: 0.2780 - accuracy: 0.9062\n",
      "Epoch 51: saving model to model/keypoint_classifier\\keypoint_classifier.hdf5\n",
      "19/19 [==============================] - 0s 5ms/step - loss: 0.2420 - accuracy: 0.8987 - val_loss: 0.0836 - val_accuracy: 0.9806\n",
      "Epoch 52/1000\n",
      " 1/19 [>.............................] - ETA: 0s - loss: 0.2353 - accuracy: 0.8828\n",
      "Epoch 52: saving model to model/keypoint_classifier\\keypoint_classifier.hdf5\n",
      "19/19 [==============================] - 0s 5ms/step - loss: 0.2299 - accuracy: 0.9030 - val_loss: 0.0829 - val_accuracy: 0.9832\n",
      "Epoch 53/1000\n",
      " 1/19 [>.............................] - ETA: 0s - loss: 0.2592 - accuracy: 0.8828\n",
      "Epoch 53: saving model to model/keypoint_classifier\\keypoint_classifier.hdf5\n",
      "19/19 [==============================] - 0s 5ms/step - loss: 0.2341 - accuracy: 0.8987 - val_loss: 0.0800 - val_accuracy: 0.9832\n",
      "Epoch 54/1000\n",
      " 1/19 [>.............................] - ETA: 0s - loss: 0.2343 - accuracy: 0.9062\n",
      "Epoch 54: saving model to model/keypoint_classifier\\keypoint_classifier.hdf5\n",
      "19/19 [==============================] - 0s 5ms/step - loss: 0.2273 - accuracy: 0.9052 - val_loss: 0.0815 - val_accuracy: 0.9858\n",
      "Epoch 55/1000\n"
     ]
    },
    {
     "name": "stdout",
     "output_type": "stream",
     "text": [
      " 1/19 [>.............................] - ETA: 0s - loss: 0.1888 - accuracy: 0.9062\n",
      "Epoch 55: saving model to model/keypoint_classifier\\keypoint_classifier.hdf5\n",
      "19/19 [==============================] - 0s 5ms/step - loss: 0.2300 - accuracy: 0.9039 - val_loss: 0.0772 - val_accuracy: 0.9858\n",
      "Epoch 56/1000\n",
      " 1/19 [>.............................] - ETA: 0s - loss: 0.2118 - accuracy: 0.8984\n",
      "Epoch 56: saving model to model/keypoint_classifier\\keypoint_classifier.hdf5\n",
      "19/19 [==============================] - 0s 5ms/step - loss: 0.2360 - accuracy: 0.8996 - val_loss: 0.0775 - val_accuracy: 0.9832\n",
      "Epoch 57/1000\n",
      " 1/19 [>.............................] - ETA: 0s - loss: 0.2081 - accuracy: 0.8906\n",
      "Epoch 57: saving model to model/keypoint_classifier\\keypoint_classifier.hdf5\n",
      "19/19 [==============================] - 0s 5ms/step - loss: 0.2546 - accuracy: 0.8940 - val_loss: 0.0772 - val_accuracy: 0.9858\n",
      "Epoch 58/1000\n",
      " 1/19 [>.............................] - ETA: 0s - loss: 0.3382 - accuracy: 0.8516\n",
      "Epoch 58: saving model to model/keypoint_classifier\\keypoint_classifier.hdf5\n",
      "19/19 [==============================] - 0s 5ms/step - loss: 0.2495 - accuracy: 0.8922 - val_loss: 0.0797 - val_accuracy: 0.9858\n",
      "Epoch 59/1000\n",
      " 1/19 [>.............................] - ETA: 0s - loss: 0.1921 - accuracy: 0.9297\n",
      "Epoch 59: saving model to model/keypoint_classifier\\keypoint_classifier.hdf5\n",
      "19/19 [==============================] - 0s 5ms/step - loss: 0.2351 - accuracy: 0.9043 - val_loss: 0.0789 - val_accuracy: 0.9845\n",
      "Epoch 60/1000\n",
      " 1/19 [>.............................] - ETA: 0s - loss: 0.2761 - accuracy: 0.8828\n",
      "Epoch 60: saving model to model/keypoint_classifier\\keypoint_classifier.hdf5\n",
      "19/19 [==============================] - 0s 5ms/step - loss: 0.2284 - accuracy: 0.9039 - val_loss: 0.0789 - val_accuracy: 0.9845\n",
      "Epoch 61/1000\n",
      " 1/19 [>.............................] - ETA: 0s - loss: 0.2692 - accuracy: 0.9219\n",
      "Epoch 61: saving model to model/keypoint_classifier\\keypoint_classifier.hdf5\n",
      "19/19 [==============================] - 0s 5ms/step - loss: 0.2235 - accuracy: 0.9108 - val_loss: 0.0778 - val_accuracy: 0.9845\n",
      "Epoch 62/1000\n",
      " 1/19 [>.............................] - ETA: 0s - loss: 0.2040 - accuracy: 0.8828\n",
      "Epoch 62: saving model to model/keypoint_classifier\\keypoint_classifier.hdf5\n",
      "19/19 [==============================] - 0s 5ms/step - loss: 0.2291 - accuracy: 0.9043 - val_loss: 0.0771 - val_accuracy: 0.9871\n",
      "Epoch 63/1000\n",
      " 1/19 [>.............................] - ETA: 0s - loss: 0.2663 - accuracy: 0.8750\n",
      "Epoch 63: saving model to model/keypoint_classifier\\keypoint_classifier.hdf5\n",
      "19/19 [==============================] - 0s 5ms/step - loss: 0.2327 - accuracy: 0.9000 - val_loss: 0.0716 - val_accuracy: 0.9871\n",
      "Epoch 64/1000\n",
      " 1/19 [>.............................] - ETA: 0s - loss: 0.2332 - accuracy: 0.9062\n",
      "Epoch 64: saving model to model/keypoint_classifier\\keypoint_classifier.hdf5\n",
      "19/19 [==============================] - 0s 5ms/step - loss: 0.2381 - accuracy: 0.8961 - val_loss: 0.0752 - val_accuracy: 0.9871\n",
      "Epoch 65/1000\n",
      " 1/19 [>.............................] - ETA: 0s - loss: 0.1697 - accuracy: 0.9219\n",
      "Epoch 65: saving model to model/keypoint_classifier\\keypoint_classifier.hdf5\n",
      "19/19 [==============================] - 0s 5ms/step - loss: 0.2160 - accuracy: 0.9091 - val_loss: 0.0748 - val_accuracy: 0.9871\n",
      "Epoch 66/1000\n",
      " 1/19 [>.............................] - ETA: 0s - loss: 0.2379 - accuracy: 0.8984\n",
      "Epoch 66: saving model to model/keypoint_classifier\\keypoint_classifier.hdf5\n",
      "19/19 [==============================] - 0s 6ms/step - loss: 0.2244 - accuracy: 0.9108 - val_loss: 0.0745 - val_accuracy: 0.9871\n",
      "Epoch 67/1000\n",
      " 1/19 [>.............................] - ETA: 0s - loss: 0.2332 - accuracy: 0.8906\n",
      "Epoch 67: saving model to model/keypoint_classifier\\keypoint_classifier.hdf5\n",
      "19/19 [==============================] - 0s 6ms/step - loss: 0.2075 - accuracy: 0.9181 - val_loss: 0.0710 - val_accuracy: 0.9871\n",
      "Epoch 68/1000\n",
      " 1/19 [>.............................] - ETA: 0s - loss: 0.1741 - accuracy: 0.9531\n",
      "Epoch 68: saving model to model/keypoint_classifier\\keypoint_classifier.hdf5\n",
      "19/19 [==============================] - 0s 5ms/step - loss: 0.2203 - accuracy: 0.9095 - val_loss: 0.0707 - val_accuracy: 0.9871\n",
      "Epoch 69/1000\n",
      " 1/19 [>.............................] - ETA: 0s - loss: 0.2497 - accuracy: 0.8828\n",
      "Epoch 69: saving model to model/keypoint_classifier\\keypoint_classifier.hdf5\n",
      "19/19 [==============================] - 0s 6ms/step - loss: 0.2208 - accuracy: 0.9121 - val_loss: 0.0720 - val_accuracy: 0.9871\n",
      "Epoch 70/1000\n",
      " 1/19 [>.............................] - ETA: 0s - loss: 0.1700 - accuracy: 0.9453\n",
      "Epoch 70: saving model to model/keypoint_classifier\\keypoint_classifier.hdf5\n",
      "19/19 [==============================] - 0s 5ms/step - loss: 0.2216 - accuracy: 0.9112 - val_loss: 0.0696 - val_accuracy: 0.9884\n",
      "Epoch 71/1000\n",
      " 1/19 [>.............................] - ETA: 0s - loss: 0.2271 - accuracy: 0.8984\n",
      "Epoch 71: saving model to model/keypoint_classifier\\keypoint_classifier.hdf5\n",
      "19/19 [==============================] - 0s 5ms/step - loss: 0.2148 - accuracy: 0.9172 - val_loss: 0.0692 - val_accuracy: 0.9871\n",
      "Epoch 72/1000\n",
      " 1/19 [>.............................] - ETA: 0s - loss: 0.2187 - accuracy: 0.8984\n",
      "Epoch 72: saving model to model/keypoint_classifier\\keypoint_classifier.hdf5\n",
      "19/19 [==============================] - 0s 5ms/step - loss: 0.2008 - accuracy: 0.9103 - val_loss: 0.0668 - val_accuracy: 0.9884\n",
      "Epoch 73/1000\n",
      " 1/19 [>.............................] - ETA: 0s - loss: 0.1671 - accuracy: 0.9375\n",
      "Epoch 73: saving model to model/keypoint_classifier\\keypoint_classifier.hdf5\n",
      "19/19 [==============================] - 0s 5ms/step - loss: 0.2271 - accuracy: 0.9060 - val_loss: 0.0691 - val_accuracy: 0.9884\n",
      "Epoch 74/1000\n",
      " 1/19 [>.............................] - ETA: 0s - loss: 0.2796 - accuracy: 0.8516\n",
      "Epoch 74: saving model to model/keypoint_classifier\\keypoint_classifier.hdf5\n",
      "19/19 [==============================] - 0s 5ms/step - loss: 0.2047 - accuracy: 0.9181 - val_loss: 0.0667 - val_accuracy: 0.9884\n",
      "Epoch 75/1000\n",
      " 1/19 [>.............................] - ETA: 0s - loss: 0.2689 - accuracy: 0.8906\n",
      "Epoch 75: saving model to model/keypoint_classifier\\keypoint_classifier.hdf5\n",
      "19/19 [==============================] - 0s 5ms/step - loss: 0.2013 - accuracy: 0.9159 - val_loss: 0.0668 - val_accuracy: 0.9884\n",
      "Epoch 76/1000\n",
      " 1/19 [>.............................] - ETA: 0s - loss: 0.1504 - accuracy: 0.9453\n",
      "Epoch 76: saving model to model/keypoint_classifier\\keypoint_classifier.hdf5\n",
      "19/19 [==============================] - 0s 5ms/step - loss: 0.1982 - accuracy: 0.9246 - val_loss: 0.0648 - val_accuracy: 0.9884\n",
      "Epoch 77/1000\n",
      " 1/19 [>.............................] - ETA: 0s - loss: 0.2001 - accuracy: 0.9062\n",
      "Epoch 77: saving model to model/keypoint_classifier\\keypoint_classifier.hdf5\n",
      "19/19 [==============================] - 0s 5ms/step - loss: 0.2303 - accuracy: 0.9034 - val_loss: 0.0679 - val_accuracy: 0.9871\n",
      "Epoch 78/1000\n",
      " 1/19 [>.............................] - ETA: 0s - loss: 0.1864 - accuracy: 0.9219\n",
      "Epoch 78: saving model to model/keypoint_classifier\\keypoint_classifier.hdf5\n",
      "19/19 [==============================] - 0s 5ms/step - loss: 0.2085 - accuracy: 0.9116 - val_loss: 0.0672 - val_accuracy: 0.9884\n",
      "Epoch 79/1000\n",
      " 1/19 [>.............................] - ETA: 0s - loss: 0.1892 - accuracy: 0.9062\n",
      "Epoch 79: saving model to model/keypoint_classifier\\keypoint_classifier.hdf5\n",
      "19/19 [==============================] - 0s 5ms/step - loss: 0.2115 - accuracy: 0.9112 - val_loss: 0.0696 - val_accuracy: 0.9858\n",
      "Epoch 80/1000\n",
      " 1/19 [>.............................] - ETA: 0s - loss: 0.2246 - accuracy: 0.9141\n",
      "Epoch 80: saving model to model/keypoint_classifier\\keypoint_classifier.hdf5\n",
      "19/19 [==============================] - 0s 5ms/step - loss: 0.2159 - accuracy: 0.9142 - val_loss: 0.0685 - val_accuracy: 0.9884\n",
      "Epoch 81/1000\n",
      " 1/19 [>.............................] - ETA: 0s - loss: 0.1728 - accuracy: 0.9453\n",
      "Epoch 81: saving model to model/keypoint_classifier\\keypoint_classifier.hdf5\n",
      "19/19 [==============================] - 0s 5ms/step - loss: 0.2158 - accuracy: 0.9172 - val_loss: 0.0633 - val_accuracy: 0.9884\n",
      "Epoch 82/1000\n"
     ]
    },
    {
     "name": "stdout",
     "output_type": "stream",
     "text": [
      " 1/19 [>.............................] - ETA: 0s - loss: 0.2570 - accuracy: 0.8828\n",
      "Epoch 82: saving model to model/keypoint_classifier\\keypoint_classifier.hdf5\n",
      "19/19 [==============================] - 0s 5ms/step - loss: 0.1947 - accuracy: 0.9185 - val_loss: 0.0611 - val_accuracy: 0.9910\n",
      "Epoch 83/1000\n",
      " 1/19 [>.............................] - ETA: 0s - loss: 0.1777 - accuracy: 0.9141\n",
      "Epoch 83: saving model to model/keypoint_classifier\\keypoint_classifier.hdf5\n",
      "19/19 [==============================] - 0s 5ms/step - loss: 0.2091 - accuracy: 0.9190 - val_loss: 0.0613 - val_accuracy: 0.9884\n",
      "Epoch 84/1000\n",
      " 1/19 [>.............................] - ETA: 0s - loss: 0.2032 - accuracy: 0.8984\n",
      "Epoch 84: saving model to model/keypoint_classifier\\keypoint_classifier.hdf5\n",
      "19/19 [==============================] - 0s 5ms/step - loss: 0.1917 - accuracy: 0.9233 - val_loss: 0.0613 - val_accuracy: 0.9897\n",
      "Epoch 85/1000\n",
      " 1/19 [>.............................] - ETA: 0s - loss: 0.1279 - accuracy: 0.9609\n",
      "Epoch 85: saving model to model/keypoint_classifier\\keypoint_classifier.hdf5\n",
      "19/19 [==============================] - 0s 5ms/step - loss: 0.2154 - accuracy: 0.9099 - val_loss: 0.0630 - val_accuracy: 0.9897\n",
      "Epoch 86/1000\n",
      " 1/19 [>.............................] - ETA: 0s - loss: 0.1695 - accuracy: 0.9297\n",
      "Epoch 86: saving model to model/keypoint_classifier\\keypoint_classifier.hdf5\n",
      "19/19 [==============================] - 0s 5ms/step - loss: 0.2031 - accuracy: 0.9207 - val_loss: 0.0652 - val_accuracy: 0.9897\n",
      "Epoch 87/1000\n",
      " 1/19 [>.............................] - ETA: 0s - loss: 0.2317 - accuracy: 0.8828\n",
      "Epoch 87: saving model to model/keypoint_classifier\\keypoint_classifier.hdf5\n",
      "19/19 [==============================] - 0s 5ms/step - loss: 0.2005 - accuracy: 0.9159 - val_loss: 0.0646 - val_accuracy: 0.9897\n",
      "Epoch 88/1000\n",
      " 1/19 [>.............................] - ETA: 0s - loss: 0.2389 - accuracy: 0.8750\n",
      "Epoch 88: saving model to model/keypoint_classifier\\keypoint_classifier.hdf5\n",
      "19/19 [==============================] - 0s 5ms/step - loss: 0.1930 - accuracy: 0.9198 - val_loss: 0.0664 - val_accuracy: 0.9858\n",
      "Epoch 89/1000\n",
      " 1/19 [>.............................] - ETA: 0s - loss: 0.1468 - accuracy: 0.9453\n",
      "Epoch 89: saving model to model/keypoint_classifier\\keypoint_classifier.hdf5\n",
      "19/19 [==============================] - 0s 5ms/step - loss: 0.2011 - accuracy: 0.9138 - val_loss: 0.0634 - val_accuracy: 0.9897\n",
      "Epoch 90/1000\n",
      " 1/19 [>.............................] - ETA: 0s - loss: 0.2410 - accuracy: 0.8594\n",
      "Epoch 90: saving model to model/keypoint_classifier\\keypoint_classifier.hdf5\n",
      "19/19 [==============================] - 0s 5ms/step - loss: 0.2101 - accuracy: 0.9078 - val_loss: 0.0634 - val_accuracy: 0.9884\n",
      "Epoch 91/1000\n",
      " 1/19 [>.............................] - ETA: 0s - loss: 0.2489 - accuracy: 0.8906\n",
      "Epoch 91: saving model to model/keypoint_classifier\\keypoint_classifier.hdf5\n",
      "19/19 [==============================] - 0s 5ms/step - loss: 0.2130 - accuracy: 0.9121 - val_loss: 0.0698 - val_accuracy: 0.9845\n",
      "Epoch 92/1000\n",
      " 1/19 [>.............................] - ETA: 0s - loss: 0.1351 - accuracy: 0.9453\n",
      "Epoch 92: saving model to model/keypoint_classifier\\keypoint_classifier.hdf5\n",
      "19/19 [==============================] - 0s 5ms/step - loss: 0.2184 - accuracy: 0.9103 - val_loss: 0.0633 - val_accuracy: 0.9871\n",
      "Epoch 93/1000\n",
      " 1/19 [>.............................] - ETA: 0s - loss: 0.1201 - accuracy: 0.9375\n",
      "Epoch 93: saving model to model/keypoint_classifier\\keypoint_classifier.hdf5\n",
      "19/19 [==============================] - 0s 5ms/step - loss: 0.2087 - accuracy: 0.9177 - val_loss: 0.0657 - val_accuracy: 0.9884\n",
      "Epoch 94/1000\n",
      " 1/19 [>.............................] - ETA: 0s - loss: 0.1700 - accuracy: 0.9453\n",
      "Epoch 94: saving model to model/keypoint_classifier\\keypoint_classifier.hdf5\n",
      "19/19 [==============================] - 0s 5ms/step - loss: 0.2060 - accuracy: 0.9151 - val_loss: 0.0640 - val_accuracy: 0.9910\n",
      "Epoch 95/1000\n",
      " 1/19 [>.............................] - ETA: 0s - loss: 0.1688 - accuracy: 0.9453\n",
      "Epoch 95: saving model to model/keypoint_classifier\\keypoint_classifier.hdf5\n",
      "19/19 [==============================] - 0s 5ms/step - loss: 0.2001 - accuracy: 0.9181 - val_loss: 0.0639 - val_accuracy: 0.9897\n",
      "Epoch 96/1000\n",
      "19/19 [==============================] - ETA: 0s - loss: 0.1823 - accuracy: 0.9185\n",
      "Epoch 96: saving model to model/keypoint_classifier\\keypoint_classifier.hdf5\n",
      "19/19 [==============================] - 0s 7ms/step - loss: 0.1823 - accuracy: 0.9185 - val_loss: 0.0609 - val_accuracy: 0.9897\n",
      "Epoch 97/1000\n",
      " 1/19 [>.............................] - ETA: 0s - loss: 0.2667 - accuracy: 0.8828\n",
      "Epoch 97: saving model to model/keypoint_classifier\\keypoint_classifier.hdf5\n",
      "19/19 [==============================] - 0s 6ms/step - loss: 0.2060 - accuracy: 0.9147 - val_loss: 0.0633 - val_accuracy: 0.9897\n",
      "Epoch 98/1000\n",
      " 1/19 [>.............................] - ETA: 0s - loss: 0.1900 - accuracy: 0.9141\n",
      "Epoch 98: saving model to model/keypoint_classifier\\keypoint_classifier.hdf5\n",
      "19/19 [==============================] - 0s 5ms/step - loss: 0.1885 - accuracy: 0.9216 - val_loss: 0.0648 - val_accuracy: 0.9884\n",
      "Epoch 99/1000\n",
      " 1/19 [>.............................] - ETA: 0s - loss: 0.1359 - accuracy: 0.9609\n",
      "Epoch 99: saving model to model/keypoint_classifier\\keypoint_classifier.hdf5\n",
      "19/19 [==============================] - 0s 5ms/step - loss: 0.1805 - accuracy: 0.9284 - val_loss: 0.0639 - val_accuracy: 0.9884\n",
      "Epoch 100/1000\n",
      " 1/19 [>.............................] - ETA: 0s - loss: 0.1598 - accuracy: 0.9297\n",
      "Epoch 100: saving model to model/keypoint_classifier\\keypoint_classifier.hdf5\n",
      "19/19 [==============================] - 0s 5ms/step - loss: 0.1988 - accuracy: 0.9185 - val_loss: 0.0612 - val_accuracy: 0.9897\n",
      "Epoch 101/1000\n",
      " 1/19 [>.............................] - ETA: 0s - loss: 0.1633 - accuracy: 0.9297\n",
      "Epoch 101: saving model to model/keypoint_classifier\\keypoint_classifier.hdf5\n",
      "19/19 [==============================] - 0s 5ms/step - loss: 0.2025 - accuracy: 0.9134 - val_loss: 0.0623 - val_accuracy: 0.9910\n",
      "Epoch 102/1000\n",
      " 1/19 [>.............................] - ETA: 0s - loss: 0.1126 - accuracy: 0.9453\n",
      "Epoch 102: saving model to model/keypoint_classifier\\keypoint_classifier.hdf5\n",
      "19/19 [==============================] - 0s 6ms/step - loss: 0.1861 - accuracy: 0.9246 - val_loss: 0.0620 - val_accuracy: 0.9910\n",
      "Epoch 103/1000\n",
      " 1/19 [>.............................] - ETA: 0s - loss: 0.2115 - accuracy: 0.9141\n",
      "Epoch 103: saving model to model/keypoint_classifier\\keypoint_classifier.hdf5\n",
      "19/19 [==============================] - 0s 6ms/step - loss: 0.1968 - accuracy: 0.9194 - val_loss: 0.0617 - val_accuracy: 0.9884\n",
      "Epoch 104/1000\n",
      " 1/19 [>.............................] - ETA: 0s - loss: 0.1714 - accuracy: 0.9375\n",
      "Epoch 104: saving model to model/keypoint_classifier\\keypoint_classifier.hdf5\n",
      "19/19 [==============================] - 0s 6ms/step - loss: 0.2065 - accuracy: 0.9134 - val_loss: 0.0644 - val_accuracy: 0.9884\n",
      "Epoch 105/1000\n",
      " 1/19 [>.............................] - ETA: 0s - loss: 0.2036 - accuracy: 0.9141\n",
      "Epoch 105: saving model to model/keypoint_classifier\\keypoint_classifier.hdf5\n",
      "19/19 [==============================] - 0s 5ms/step - loss: 0.2015 - accuracy: 0.9099 - val_loss: 0.0589 - val_accuracy: 0.9897\n",
      "Epoch 106/1000\n",
      " 1/19 [>.............................] - ETA: 0s - loss: 0.1995 - accuracy: 0.9219\n",
      "Epoch 106: saving model to model/keypoint_classifier\\keypoint_classifier.hdf5\n",
      "19/19 [==============================] - 0s 5ms/step - loss: 0.2040 - accuracy: 0.9168 - val_loss: 0.0577 - val_accuracy: 0.9897\n",
      "Epoch 107/1000\n",
      " 1/19 [>.............................] - ETA: 0s - loss: 0.1824 - accuracy: 0.9141\n",
      "Epoch 107: saving model to model/keypoint_classifier\\keypoint_classifier.hdf5\n",
      "19/19 [==============================] - 0s 5ms/step - loss: 0.1849 - accuracy: 0.9267 - val_loss: 0.0607 - val_accuracy: 0.9884\n",
      "Epoch 108/1000\n",
      " 1/19 [>.............................] - ETA: 0s - loss: 0.2155 - accuracy: 0.9062\n",
      "Epoch 108: saving model to model/keypoint_classifier\\keypoint_classifier.hdf5\n",
      "19/19 [==============================] - 0s 5ms/step - loss: 0.1867 - accuracy: 0.9246 - val_loss: 0.0585 - val_accuracy: 0.9910\n",
      "Epoch 109/1000\n"
     ]
    },
    {
     "name": "stdout",
     "output_type": "stream",
     "text": [
      " 1/19 [>.............................] - ETA: 0s - loss: 0.1847 - accuracy: 0.9531\n",
      "Epoch 109: saving model to model/keypoint_classifier\\keypoint_classifier.hdf5\n",
      "19/19 [==============================] - 0s 5ms/step - loss: 0.1802 - accuracy: 0.9220 - val_loss: 0.0607 - val_accuracy: 0.9910\n",
      "Epoch 110/1000\n",
      " 1/19 [>.............................] - ETA: 0s - loss: 0.1774 - accuracy: 0.9297\n",
      "Epoch 110: saving model to model/keypoint_classifier\\keypoint_classifier.hdf5\n",
      "19/19 [==============================] - 0s 5ms/step - loss: 0.2066 - accuracy: 0.9078 - val_loss: 0.0628 - val_accuracy: 0.9897\n",
      "Epoch 111/1000\n",
      " 1/19 [>.............................] - ETA: 0s - loss: 0.1940 - accuracy: 0.9219\n",
      "Epoch 111: saving model to model/keypoint_classifier\\keypoint_classifier.hdf5\n",
      "19/19 [==============================] - 0s 5ms/step - loss: 0.1877 - accuracy: 0.9284 - val_loss: 0.0609 - val_accuracy: 0.9897\n",
      "Epoch 112/1000\n",
      " 1/19 [>.............................] - ETA: 0s - loss: 0.1588 - accuracy: 0.9531\n",
      "Epoch 112: saving model to model/keypoint_classifier\\keypoint_classifier.hdf5\n",
      "19/19 [==============================] - 0s 5ms/step - loss: 0.1849 - accuracy: 0.9302 - val_loss: 0.0618 - val_accuracy: 0.9897\n",
      "Epoch 113/1000\n",
      " 1/19 [>.............................] - ETA: 0s - loss: 0.2349 - accuracy: 0.9297\n",
      "Epoch 113: saving model to model/keypoint_classifier\\keypoint_classifier.hdf5\n",
      "19/19 [==============================] - 0s 5ms/step - loss: 0.1920 - accuracy: 0.9272 - val_loss: 0.0612 - val_accuracy: 0.9910\n",
      "Epoch 114/1000\n",
      " 1/19 [>.............................] - ETA: 0s - loss: 0.2124 - accuracy: 0.9219\n",
      "Epoch 114: saving model to model/keypoint_classifier\\keypoint_classifier.hdf5\n",
      "19/19 [==============================] - 0s 5ms/step - loss: 0.1926 - accuracy: 0.9246 - val_loss: 0.0616 - val_accuracy: 0.9897\n",
      "Epoch 115/1000\n",
      " 1/19 [>.............................] - ETA: 0s - loss: 0.1742 - accuracy: 0.9062\n",
      "Epoch 115: saving model to model/keypoint_classifier\\keypoint_classifier.hdf5\n",
      "19/19 [==============================] - 0s 6ms/step - loss: 0.1906 - accuracy: 0.9276 - val_loss: 0.0616 - val_accuracy: 0.9897\n",
      "Epoch 116/1000\n",
      " 1/19 [>.............................] - ETA: 0s - loss: 0.1553 - accuracy: 0.9609\n",
      "Epoch 116: saving model to model/keypoint_classifier\\keypoint_classifier.hdf5\n",
      "19/19 [==============================] - 0s 5ms/step - loss: 0.1909 - accuracy: 0.9280 - val_loss: 0.0602 - val_accuracy: 0.9897\n",
      "Epoch 117/1000\n",
      " 1/19 [>.............................] - ETA: 0s - loss: 0.1552 - accuracy: 0.9453\n",
      "Epoch 117: saving model to model/keypoint_classifier\\keypoint_classifier.hdf5\n",
      "19/19 [==============================] - 0s 5ms/step - loss: 0.1851 - accuracy: 0.9237 - val_loss: 0.0620 - val_accuracy: 0.9910\n",
      "Epoch 118/1000\n",
      " 1/19 [>.............................] - ETA: 0s - loss: 0.1234 - accuracy: 0.9453\n",
      "Epoch 118: saving model to model/keypoint_classifier\\keypoint_classifier.hdf5\n",
      "19/19 [==============================] - 0s 5ms/step - loss: 0.2017 - accuracy: 0.9168 - val_loss: 0.0665 - val_accuracy: 0.9910\n",
      "Epoch 119/1000\n",
      " 1/19 [>.............................] - ETA: 0s - loss: 0.1749 - accuracy: 0.9375\n",
      "Epoch 119: saving model to model/keypoint_classifier\\keypoint_classifier.hdf5\n",
      "19/19 [==============================] - 0s 5ms/step - loss: 0.1968 - accuracy: 0.9129 - val_loss: 0.0621 - val_accuracy: 0.9910\n",
      "Epoch 120/1000\n",
      " 1/19 [>.............................] - ETA: 0s - loss: 0.1088 - accuracy: 0.9609\n",
      "Epoch 120: saving model to model/keypoint_classifier\\keypoint_classifier.hdf5\n",
      "19/19 [==============================] - 0s 5ms/step - loss: 0.1831 - accuracy: 0.9259 - val_loss: 0.0643 - val_accuracy: 0.9884\n",
      "Epoch 121/1000\n",
      " 1/19 [>.............................] - ETA: 0s - loss: 0.1699 - accuracy: 0.9219\n",
      "Epoch 121: saving model to model/keypoint_classifier\\keypoint_classifier.hdf5\n",
      "19/19 [==============================] - 0s 5ms/step - loss: 0.1932 - accuracy: 0.9220 - val_loss: 0.0602 - val_accuracy: 0.9922\n",
      "Epoch 122/1000\n",
      " 1/19 [>.............................] - ETA: 0s - loss: 0.1809 - accuracy: 0.9297\n",
      "Epoch 122: saving model to model/keypoint_classifier\\keypoint_classifier.hdf5\n",
      "19/19 [==============================] - 0s 5ms/step - loss: 0.1946 - accuracy: 0.9181 - val_loss: 0.0619 - val_accuracy: 0.9897\n",
      "Epoch 123/1000\n",
      " 1/19 [>.............................] - ETA: 0s - loss: 0.2002 - accuracy: 0.9219\n",
      "Epoch 123: saving model to model/keypoint_classifier\\keypoint_classifier.hdf5\n",
      "19/19 [==============================] - 0s 5ms/step - loss: 0.1868 - accuracy: 0.9241 - val_loss: 0.0608 - val_accuracy: 0.9910\n",
      "Epoch 124/1000\n",
      " 1/19 [>.............................] - ETA: 0s - loss: 0.2892 - accuracy: 0.8672\n",
      "Epoch 124: saving model to model/keypoint_classifier\\keypoint_classifier.hdf5\n",
      "19/19 [==============================] - 0s 5ms/step - loss: 0.1955 - accuracy: 0.9198 - val_loss: 0.0622 - val_accuracy: 0.9910\n",
      "Epoch 125/1000\n",
      " 1/19 [>.............................] - ETA: 0s - loss: 0.2395 - accuracy: 0.9297\n",
      "Epoch 125: saving model to model/keypoint_classifier\\keypoint_classifier.hdf5\n",
      "19/19 [==============================] - 0s 5ms/step - loss: 0.1871 - accuracy: 0.9302 - val_loss: 0.0626 - val_accuracy: 0.9897\n",
      "Epoch 126/1000\n",
      " 1/19 [>.............................] - ETA: 0s - loss: 0.1757 - accuracy: 0.9297\n",
      "Epoch 126: saving model to model/keypoint_classifier\\keypoint_classifier.hdf5\n",
      "19/19 [==============================] - 0s 5ms/step - loss: 0.1875 - accuracy: 0.9198 - val_loss: 0.0616 - val_accuracy: 0.9858\n",
      "Epoch 126: early stopping\n"
     ]
    },
    {
     "data": {
      "text/plain": [
       "<keras.callbacks.History at 0x2a648178790>"
      ]
     },
     "execution_count": 11,
     "metadata": {},
     "output_type": "execute_result"
    }
   ],
   "source": [
    "model.fit(\n",
    "    X_train,\n",
    "    y_train,\n",
    "    epochs=1000,\n",
    "    batch_size=128,\n",
    "    validation_data=(X_test, y_test),\n",
    "    callbacks=[cp_callback, es_callback]\n",
    ")"
   ]
  },
  {
   "cell_type": "code",
   "execution_count": 12,
   "metadata": {},
   "outputs": [
    {
     "name": "stdout",
     "output_type": "stream",
     "text": [
      "7/7 [==============================] - 0s 1ms/step - loss: 0.0616 - accuracy: 0.9858\n"
     ]
    }
   ],
   "source": [
    "# モデル評価\n",
    "val_loss, val_acc = model.evaluate(X_test, y_test, batch_size=128)"
   ]
  },
  {
   "cell_type": "code",
   "execution_count": 13,
   "metadata": {},
   "outputs": [],
   "source": [
    "# 保存したモデルのロード\n",
    "model = tf.keras.models.load_model(model_save_path)"
   ]
  },
  {
   "cell_type": "code",
   "execution_count": 14,
   "metadata": {},
   "outputs": [
    {
     "name": "stdout",
     "output_type": "stream",
     "text": [
      "1/1 [==============================] - 0s 73ms/step\n",
      "[0.01032846 0.98967147]\n",
      "1\n"
     ]
    }
   ],
   "source": [
    "# 推論テスト\n",
    "predict_result = model.predict(np.array([X_test[0]]))\n",
    "print(np.squeeze(predict_result))\n",
    "print(np.argmax(np.squeeze(predict_result)))"
   ]
  },
  {
   "cell_type": "markdown",
   "metadata": {},
   "source": [
    "# 混同行列"
   ]
  },
  {
   "cell_type": "code",
   "execution_count": 15,
   "metadata": {},
   "outputs": [
    {
     "name": "stdout",
     "output_type": "stream",
     "text": [
      "25/25 [==============================] - 0s 1ms/step\n"
     ]
    },
    {
     "data": {
      "image/png": "[encoded data removed]",
      "text/plain": [
       "<Figure size 700x600 with 2 Axes>"
      ]
     },
     "metadata": {},
     "output_type": "display_data"
    },
    {
     "name": "stdout",
     "output_type": "stream",
     "text": [
      "Classification Report\n",
      "              precision    recall  f1-score   support\n",
      "\n",
      "           0       0.97      1.00      0.99       395\n",
      "           1       1.00      0.97      0.99       379\n",
      "\n",
      "    accuracy                           0.99       774\n",
      "   macro avg       0.99      0.99      0.99       774\n",
      "weighted avg       0.99      0.99      0.99       774\n",
      "\n"
     ]
    }
   ],
   "source": [
    "import pandas as pd\n",
    "import seaborn as sns\n",
    "import matplotlib.pyplot as plt\n",
    "from sklearn.metrics import confusion_matrix, classification_report\n",
    "\n",
    "def print_confusion_matrix(y_true, y_pred, report=True):\n",
    "    labels = sorted(list(set(y_true)))\n",
    "    cmx_data = confusion_matrix(y_true, y_pred, labels=labels)\n",
    "    \n",
    "    df_cmx = pd.DataFrame(cmx_data, index=labels, columns=labels)\n",
    " \n",
    "    fig, ax = plt.subplots(figsize=(7, 6))\n",
    "    sns.heatmap(df_cmx, annot=True, fmt='g' ,square=False)\n",
    "    ax.set_ylim(len(set(y_true)), 0)\n",
    "    plt.show()\n",
    "    \n",
    "    if report:\n",
    "        print('Classification Report')\n",
    "        print(classification_report(y_test, y_pred))\n",
    "\n",
    "Y_pred = model.predict(X_test)\n",
    "y_pred = np.argmax(Y_pred, axis=1)\n",
    "\n",
    "print_confusion_matrix(y_test, y_pred)"
   ]
  },
  {
   "cell_type": "markdown",
   "metadata": {},
   "source": [
    "# Tensorflow-Lite用のモデルへ変換"
   ]
  },
  {
   "cell_type": "code",
   "execution_count": 16,
   "metadata": {},
   "outputs": [],
   "source": [
    "# 推論専用のモデルとして保存\n",
    "model.save(model_save_path, include_optimizer=False)"
   ]
  },
  {
   "cell_type": "code",
   "execution_count": 17,
   "metadata": {},
   "outputs": [
    {
     "name": "stdout",
     "output_type": "stream",
     "text": [
      "INFO:tensorflow:Assets written to: C:\\Users\\vision\\AppData\\Local\\Temp\\tmplcmvdayd\\assets\n"
     ]
    },
    {
     "data": {
      "text/plain": [
       "6456"
      ]
     },
     "execution_count": 17,
     "metadata": {},
     "output_type": "execute_result"
    }
   ],
   "source": [
    "# モデルを変換(量子化)\n",
    "tflite_save_path = 'model/keypoint_classifier/keypoint_classifier.tflite'\n",
    "\n",
    "converter = tf.lite.TFLiteConverter.from_keras_model(model)\n",
    "converter.optimizations = [tf.lite.Optimize.DEFAULT]\n",
    "tflite_quantized_model = converter.convert()\n",
    "\n",
    "open(tflite_save_path, 'wb').write(tflite_quantized_model)"
   ]
  },
  {
   "cell_type": "markdown",
   "metadata": {},
   "source": [
    "# 推論テスト"
   ]
  },
  {
   "cell_type": "code",
   "execution_count": 18,
   "metadata": {},
   "outputs": [],
   "source": [
    "interpreter = tf.lite.Interpreter(model_path=tflite_save_path)\n",
    "interpreter.allocate_tensors()"
   ]
  },
  {
   "cell_type": "code",
   "execution_count": 19,
   "metadata": {},
   "outputs": [],
   "source": [
    "# 入出力テンソルを取得\n",
    "input_details = interpreter.get_input_details()\n",
    "output_details = interpreter.get_output_details()"
   ]
  },
  {
   "cell_type": "code",
   "execution_count": 20,
   "metadata": {},
   "outputs": [],
   "source": [
    "interpreter.set_tensor(input_details[0]['index'], np.array([X_test[0]]))"
   ]
  },
  {
   "cell_type": "code",
   "execution_count": 21,
   "metadata": {
    "scrolled": true
   },
   "outputs": [
    {
     "name": "stdout",
     "output_type": "stream",
     "text": [
      "CPU times: total: 0 ns\n",
      "Wall time: 0 ns\n"
     ]
    }
   ],
   "source": [
    "%%time\n",
    "# 推論実施\n",
    "interpreter.invoke()\n",
    "tflite_results = interpreter.get_tensor(output_details[0]['index'])"
   ]
  },
  {
   "cell_type": "code",
   "execution_count": 22,
   "metadata": {},
   "outputs": [
    {
     "name": "stdout",
     "output_type": "stream",
     "text": [
      "[0.01032845 0.98967147]\n",
      "1\n"
     ]
    }
   ],
   "source": [
    "print(np.squeeze(tflite_results))\n",
    "print(np.argmax(np.squeeze(tflite_results)))"
   ]
  }
 ],
 "metadata": {
  "kernelspec": {
   "display_name": "Python 3 (ipykernel)",
   "language": "python",
   "name": "python3"
  },
  "language_info": {
   "codemirror_mode": {
    "name": "ipython",
    "version": 3
   },
   "file_extension": ".py",
   "mimetype": "text/x-python",
   "name": "python",
   "nbconvert_exporter": "python",
   "pygments_lexer": "ipython3",
   "version": "3.9.2"
  }
 },
 "nbformat": 4,
 "nbformat_minor": 4
}
